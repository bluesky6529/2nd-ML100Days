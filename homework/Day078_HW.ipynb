{
 "cells": [
  {
   "cell_type": "markdown",
   "metadata": {},
   "source": [
    "## Work\n",
    "1. 請嘗試將 preproc_x 替換成以每筆資料的 min/max 進行標準化至 -1 ~ 1 間，再進行訓練\n",
    "2. 請嘗試將 mlp 疊更深 (e.g 5~10 層)，進行訓練後觀察 learning curve 的走勢\n",
    "3. (optional) 請改用 GPU 進行訓練 (如果你有 GPU 的話)，比較使用 CPU 與 GPU 的訓練速度"
   ]
  },
  {
   "cell_type": "code",
   "execution_count": 1,
   "metadata": {},
   "outputs": [
    {
     "name": "stderr",
     "output_type": "stream",
     "text": [
      "'nvidia-smi' 不是內部或外部命令、可執行的程式或批次檔。\n"
     ]
    }
   ],
   "source": [
    "## Your code here (optional)\n",
    "!nvidia-smi"
   ]
  },
  {
   "cell_type": "code",
   "execution_count": 2,
   "metadata": {},
   "outputs": [
    {
     "name": "stderr",
     "output_type": "stream",
     "text": [
      "Using TensorFlow backend.\n"
     ]
    }
   ],
   "source": [
    "import os\n",
    "import keras\n",
    "\n",
    "# 請嘗試設定 GPU：os.environ\n",
    "os.environ[\"CUDA_VISIBLE_DEVICES\"] = \"\""
   ]
  },
  {
   "cell_type": "code",
   "execution_count": 3,
   "metadata": {},
   "outputs": [],
   "source": [
    "train, test = keras.datasets.cifar10.load_data()"
   ]
  },
  {
   "cell_type": "code",
   "execution_count": 4,
   "metadata": {},
   "outputs": [],
   "source": [
    "from sklearn import preprocessing\n",
    "## 資料前處理\n",
    "\n",
    "def preproc_x(x, flatten=True):\n",
    "     \n",
    "    # 變成一維\n",
    "    if flatten:\n",
    "        x = x.reshape((len(x), -1))\n",
    "        min_max_scaler = preprocessing.MinMaxScaler()\n",
    "        x = min_max_scaler.fit_transform(x)\n",
    "    return x\n",
    "  \n",
    "def preproc_y(y, num_classes=10):\n",
    "    if y.shape[-1] == 1:\n",
    "        y = keras.utils.to_categorical(y, num_classes)\n",
    "    return y"
   ]
  },
  {
   "cell_type": "code",
   "execution_count": 5,
   "metadata": {},
   "outputs": [
    {
     "name": "stderr",
     "output_type": "stream",
     "text": [
      "C:\\Users\\blues\\Anaconda3\\lib\\site-packages\\sklearn\\utils\\validation.py:595: DataConversionWarning: Data with input dtype uint8 was converted to float64 by MinMaxScaler.\n",
      "  warnings.warn(msg, DataConversionWarning)\n",
      "C:\\Users\\blues\\Anaconda3\\lib\\site-packages\\sklearn\\utils\\validation.py:595: DataConversionWarning: Data with input dtype uint8 was converted to float64 by MinMaxScaler.\n",
      "  warnings.warn(msg, DataConversionWarning)\n"
     ]
    }
   ],
   "source": [
    "x_train, y_train = train\n",
    "x_test, y_test = test\n",
    "\n",
    "# Preproc the inputs\n",
    "x_train = preproc_x(x_train)\n",
    "x_test = preproc_x(x_test)\n",
    "\n",
    "# Preprc the outputs\n",
    "y_train = preproc_y(y_train)\n",
    "y_test = preproc_y(y_test)"
   ]
  },
  {
   "cell_type": "code",
   "execution_count": 6,
   "metadata": {},
   "outputs": [
    {
     "name": "stderr",
     "output_type": "stream",
     "text": [
      "WARNING: Logging before flag parsing goes to stderr.\n",
      "W0731 20:10:11.502155 15720 deprecation_wrapper.py:119] From C:\\Users\\blues\\Anaconda3\\lib\\site-packages\\keras\\backend\\tensorflow_backend.py:74: The name tf.get_default_graph is deprecated. Please use tf.compat.v1.get_default_graph instead.\n",
      "\n",
      "W0731 20:10:12.251707 15720 deprecation_wrapper.py:119] From C:\\Users\\blues\\Anaconda3\\lib\\site-packages\\keras\\backend\\tensorflow_backend.py:517: The name tf.placeholder is deprecated. Please use tf.compat.v1.placeholder instead.\n",
      "\n",
      "W0731 20:10:12.562691 15720 deprecation_wrapper.py:119] From C:\\Users\\blues\\Anaconda3\\lib\\site-packages\\keras\\backend\\tensorflow_backend.py:4138: The name tf.random_uniform is deprecated. Please use tf.random.uniform instead.\n",
      "\n"
     ]
    },
    {
     "name": "stdout",
     "output_type": "stream",
     "text": [
      "_________________________________________________________________\n",
      "Layer (type)                 Output Shape              Param #   \n",
      "=================================================================\n",
      "input_1 (InputLayer)         (None, 3072)              0         \n",
      "_________________________________________________________________\n",
      "hidden_layer1 (Dense)        (None, 512)               1573376   \n",
      "_________________________________________________________________\n",
      "hidden_layer2 (Dense)        (None, 256)               131328    \n",
      "_________________________________________________________________\n",
      "hidden_layer3 (Dense)        (None, 128)               32896     \n",
      "_________________________________________________________________\n",
      "hidden_layer4 (Dense)        (None, 64)                8256      \n",
      "_________________________________________________________________\n",
      "hidden_layer5 (Dense)        (None, 32)                2080      \n",
      "_________________________________________________________________\n",
      "output (Dense)               (None, 10)                330       \n",
      "=================================================================\n",
      "Total params: 1,748,266\n",
      "Trainable params: 1,748,266\n",
      "Non-trainable params: 0\n",
      "_________________________________________________________________\n"
     ]
    }
   ],
   "source": [
    "# 建立神經網路\n",
    "def build_mlp(input_shape, output_units=10, num_neurons=[512, 256, 128, 64, 32]):\n",
    "    input_layer = keras.layers.Input(input_shape)\n",
    "    \n",
    "    for i, n_units in enumerate(num_neurons):\n",
    "        if i == 0:\n",
    "            x = keras.layers.Dense(units=n_units, activation=\"relu\", name=\"hidden_layer\"+str(i+1))(input_layer)\n",
    "        else:\n",
    "            x = keras.layers.Dense(units=n_units, activation=\"relu\", name=\"hidden_layer\"+str(i+1))(x)\n",
    "    \n",
    "    out = keras.layers.Dense(units=output_units, activation=\"softmax\", name=\"output\")(x)\n",
    "    \n",
    "    model = keras.models.Model(inputs=[input_layer], outputs=[out])\n",
    "    return model\n",
    "  \n",
    "model = build_mlp(input_shape=x_train.shape[1:])\n",
    "model.summary()"
   ]
  },
  {
   "cell_type": "code",
   "execution_count": 7,
   "metadata": {},
   "outputs": [],
   "source": [
    "## 超參數設定\n",
    "LEARNING_RATE = 0.001\n",
    "EPOCHS = 100\n",
    "BATCH_SIZE = 256"
   ]
  },
  {
   "cell_type": "code",
   "execution_count": 8,
   "metadata": {},
   "outputs": [
    {
     "name": "stderr",
     "output_type": "stream",
     "text": [
      "W0731 20:10:13.419150 15720 deprecation_wrapper.py:119] From C:\\Users\\blues\\Anaconda3\\lib\\site-packages\\keras\\optimizers.py:790: The name tf.train.Optimizer is deprecated. Please use tf.compat.v1.train.Optimizer instead.\n",
      "\n",
      "W0731 20:10:13.454303 15720 deprecation_wrapper.py:119] From C:\\Users\\blues\\Anaconda3\\lib\\site-packages\\keras\\backend\\tensorflow_backend.py:3295: The name tf.log is deprecated. Please use tf.math.log instead.\n",
      "\n"
     ]
    }
   ],
   "source": [
    "optimizer = keras.optimizers.Adam(lr=LEARNING_RATE)\n",
    "model.compile(loss=\"categorical_crossentropy\", metrics=[\"accuracy\"], optimizer=optimizer)"
   ]
  },
  {
   "cell_type": "code",
   "execution_count": 9,
   "metadata": {},
   "outputs": [
    {
     "name": "stderr",
     "output_type": "stream",
     "text": [
      "W0731 20:10:13.784683 15720 deprecation.py:323] From C:\\Users\\blues\\Anaconda3\\lib\\site-packages\\tensorflow\\python\\ops\\math_grad.py:1250: add_dispatch_support.<locals>.wrapper (from tensorflow.python.ops.array_ops) is deprecated and will be removed in a future version.\n",
      "Instructions for updating:\n",
      "Use tf.where in 2.0, which has the same broadcast rule as np.where\n",
      "W0731 20:10:14.096253 15720 deprecation_wrapper.py:119] From C:\\Users\\blues\\Anaconda3\\lib\\site-packages\\keras\\backend\\tensorflow_backend.py:986: The name tf.assign_add is deprecated. Please use tf.compat.v1.assign_add instead.\n",
      "\n"
     ]
    },
    {
     "name": "stdout",
     "output_type": "stream",
     "text": [
      "Train on 50000 samples, validate on 10000 samples\n",
      "Epoch 1/100\n",
      "50000/50000 [==============================] - 24s 475us/step - loss: 2.0009 - acc: 0.2710 - val_loss: 1.8528 - val_acc: 0.3402\n",
      "Epoch 2/100\n",
      "50000/50000 [==============================] - 21s 418us/step - loss: 1.7630 - acc: 0.3670 - val_loss: 1.6978 - val_acc: 0.3913\n",
      "Epoch 3/100\n",
      "50000/50000 [==============================] - 23s 453us/step - loss: 1.6616 - acc: 0.4038 - val_loss: 1.6256 - val_acc: 0.4184\n",
      "Epoch 4/100\n",
      "50000/50000 [==============================] - 24s 473us/step - loss: 1.5877 - acc: 0.4344 - val_loss: 1.5972 - val_acc: 0.4301\n",
      "Epoch 5/100\n",
      "50000/50000 [==============================] - 20s 399us/step - loss: 1.5472 - acc: 0.4480 - val_loss: 1.5915 - val_acc: 0.4402\n",
      "Epoch 6/100\n",
      "50000/50000 [==============================] - 21s 424us/step - loss: 1.5045 - acc: 0.4629 - val_loss: 1.5151 - val_acc: 0.4574\n",
      "Epoch 7/100\n",
      "50000/50000 [==============================] - 21s 426us/step - loss: 1.4736 - acc: 0.4732 - val_loss: 1.5341 - val_acc: 0.4530\n",
      "Epoch 8/100\n",
      "50000/50000 [==============================] - 22s 433us/step - loss: 1.4417 - acc: 0.4861 - val_loss: 1.4748 - val_acc: 0.4778\n",
      "Epoch 9/100\n",
      "50000/50000 [==============================] - 20s 397us/step - loss: 1.4042 - acc: 0.4991 - val_loss: 1.4496 - val_acc: 0.4819\n",
      "Epoch 10/100\n",
      "50000/50000 [==============================] - 20s 393us/step - loss: 1.3878 - acc: 0.5051 - val_loss: 1.4716 - val_acc: 0.4875\n",
      "Epoch 11/100\n",
      "50000/50000 [==============================] - 20s 398us/step - loss: 1.3615 - acc: 0.5141 - val_loss: 1.4178 - val_acc: 0.4984\n",
      "Epoch 12/100\n",
      "50000/50000 [==============================] - 20s 397us/step - loss: 1.3302 - acc: 0.5268 - val_loss: 1.4008 - val_acc: 0.5015\n",
      "Epoch 13/100\n",
      "50000/50000 [==============================] - 20s 408us/step - loss: 1.3220 - acc: 0.5284 - val_loss: 1.3812 - val_acc: 0.5095\n",
      "Epoch 14/100\n",
      "50000/50000 [==============================] - 21s 413us/step - loss: 1.2876 - acc: 0.5430 - val_loss: 1.4121 - val_acc: 0.4992\n",
      "Epoch 15/100\n",
      "50000/50000 [==============================] - 21s 416us/step - loss: 1.2793 - acc: 0.5429 - val_loss: 1.3768 - val_acc: 0.5101\n",
      "Epoch 16/100\n",
      "50000/50000 [==============================] - 20s 408us/step - loss: 1.2404 - acc: 0.5590 - val_loss: 1.3630 - val_acc: 0.5234\n",
      "Epoch 17/100\n",
      "50000/50000 [==============================] - 20s 406us/step - loss: 1.2215 - acc: 0.5659 - val_loss: 1.4227 - val_acc: 0.4998\n",
      "Epoch 18/100\n",
      "50000/50000 [==============================] - 20s 408us/step - loss: 1.2120 - acc: 0.5681 - val_loss: 1.3826 - val_acc: 0.5119\n",
      "Epoch 19/100\n",
      "50000/50000 [==============================] - 20s 404us/step - loss: 1.1814 - acc: 0.5801 - val_loss: 1.3792 - val_acc: 0.5196\n",
      "Epoch 20/100\n",
      "50000/50000 [==============================] - 22s 432us/step - loss: 1.1576 - acc: 0.5869 - val_loss: 1.3706 - val_acc: 0.5281\n",
      "Epoch 21/100\n",
      "50000/50000 [==============================] - 21s 413us/step - loss: 1.1487 - acc: 0.5914 - val_loss: 1.3608 - val_acc: 0.5227\n",
      "Epoch 22/100\n",
      "50000/50000 [==============================] - 21s 411us/step - loss: 1.1221 - acc: 0.5972 - val_loss: 1.3508 - val_acc: 0.5294\n",
      "Epoch 23/100\n",
      "50000/50000 [==============================] - 20s 408us/step - loss: 1.0875 - acc: 0.6097 - val_loss: 1.3719 - val_acc: 0.5293\n",
      "Epoch 24/100\n",
      "50000/50000 [==============================] - 21s 412us/step - loss: 1.0840 - acc: 0.6129 - val_loss: 1.4975 - val_acc: 0.4957\n",
      "Epoch 25/100\n",
      "50000/50000 [==============================] - 21s 411us/step - loss: 1.0644 - acc: 0.6183 - val_loss: 1.3996 - val_acc: 0.5258\n",
      "Epoch 26/100\n",
      "50000/50000 [==============================] - 20s 409us/step - loss: 1.0512 - acc: 0.6231 - val_loss: 1.3919 - val_acc: 0.5177\n",
      "Epoch 27/100\n",
      "50000/50000 [==============================] - 21s 424us/step - loss: 1.0255 - acc: 0.6325 - val_loss: 1.4007 - val_acc: 0.5262\n",
      "Epoch 28/100\n",
      "50000/50000 [==============================] - 20s 402us/step - loss: 1.0007 - acc: 0.6416 - val_loss: 1.4015 - val_acc: 0.5308\n",
      "Epoch 29/100\n",
      "50000/50000 [==============================] - 21s 419us/step - loss: 0.9906 - acc: 0.6462 - val_loss: 1.4047 - val_acc: 0.5393\n",
      "Epoch 30/100\n",
      "50000/50000 [==============================] - 21s 414us/step - loss: 0.9722 - acc: 0.6517 - val_loss: 1.3855 - val_acc: 0.5369\n",
      "Epoch 31/100\n",
      "50000/50000 [==============================] - 21s 419us/step - loss: 0.9579 - acc: 0.6565 - val_loss: 1.3988 - val_acc: 0.5351\n",
      "Epoch 32/100\n",
      "50000/50000 [==============================] - 20s 408us/step - loss: 0.9399 - acc: 0.6621 - val_loss: 1.4517 - val_acc: 0.5287\n",
      "Epoch 33/100\n",
      "50000/50000 [==============================] - 21s 415us/step - loss: 0.9245 - acc: 0.6698 - val_loss: 1.4561 - val_acc: 0.5290\n",
      "Epoch 34/100\n",
      "50000/50000 [==============================] - 21s 415us/step - loss: 0.9051 - acc: 0.6743 - val_loss: 1.4560 - val_acc: 0.5276\n",
      "Epoch 35/100\n",
      "50000/50000 [==============================] - 21s 418us/step - loss: 0.8752 - acc: 0.6874 - val_loss: 1.5316 - val_acc: 0.5146\n",
      "Epoch 36/100\n",
      "50000/50000 [==============================] - 21s 414us/step - loss: 0.8769 - acc: 0.6872 - val_loss: 1.5118 - val_acc: 0.5207\n",
      "Epoch 37/100\n",
      "50000/50000 [==============================] - 21s 418us/step - loss: 0.8660 - acc: 0.6892 - val_loss: 1.5004 - val_acc: 0.5297\n",
      "Epoch 38/100\n",
      "50000/50000 [==============================] - 21s 417us/step - loss: 0.8303 - acc: 0.7008 - val_loss: 1.4961 - val_acc: 0.5246\n",
      "Epoch 39/100\n",
      "50000/50000 [==============================] - 21s 412us/step - loss: 0.8167 - acc: 0.7058 - val_loss: 1.5457 - val_acc: 0.5205\n",
      "Epoch 40/100\n",
      "50000/50000 [==============================] - 22s 431us/step - loss: 0.8088 - acc: 0.7106 - val_loss: 1.5327 - val_acc: 0.5280\n",
      "Epoch 41/100\n",
      "50000/50000 [==============================] - 21s 418us/step - loss: 0.7860 - acc: 0.7176 - val_loss: 1.5390 - val_acc: 0.5292\n",
      "Epoch 42/100\n",
      "50000/50000 [==============================] - 21s 414us/step - loss: 0.7712 - acc: 0.7248 - val_loss: 1.6347 - val_acc: 0.5197\n",
      "Epoch 43/100\n",
      "50000/50000 [==============================] - 21s 418us/step - loss: 0.7669 - acc: 0.7248 - val_loss: 1.6196 - val_acc: 0.5264\n",
      "Epoch 44/100\n",
      "50000/50000 [==============================] - 21s 414us/step - loss: 0.7431 - acc: 0.7331 - val_loss: 1.6704 - val_acc: 0.5252\n",
      "Epoch 45/100\n",
      "50000/50000 [==============================] - 21s 417us/step - loss: 0.7379 - acc: 0.7357 - val_loss: 1.6321 - val_acc: 0.5313\n",
      "Epoch 46/100\n",
      "50000/50000 [==============================] - 21s 421us/step - loss: 0.7275 - acc: 0.7392 - val_loss: 1.6232 - val_acc: 0.5218\n",
      "Epoch 47/100\n",
      "50000/50000 [==============================] - 21s 414us/step - loss: 0.6938 - acc: 0.7514 - val_loss: 1.7008 - val_acc: 0.5284\n",
      "Epoch 48/100\n",
      "50000/50000 [==============================] - 20s 404us/step - loss: 0.6925 - acc: 0.7523 - val_loss: 1.7000 - val_acc: 0.5249\n",
      "Epoch 49/100\n",
      "50000/50000 [==============================] - 21s 418us/step - loss: 0.6700 - acc: 0.7608 - val_loss: 1.7240 - val_acc: 0.5303\n",
      "Epoch 50/100\n",
      "50000/50000 [==============================] - 21s 413us/step - loss: 0.6656 - acc: 0.7604 - val_loss: 1.7220 - val_acc: 0.5267\n",
      "Epoch 51/100\n",
      "50000/50000 [==============================] - 20s 410us/step - loss: 0.6563 - acc: 0.7632 - val_loss: 1.8870 - val_acc: 0.5127\n",
      "Epoch 52/100\n",
      "50000/50000 [==============================] - 21s 414us/step - loss: 0.6566 - acc: 0.7641 - val_loss: 1.7927 - val_acc: 0.5210\n",
      "Epoch 53/100\n",
      "50000/50000 [==============================] - 21s 424us/step - loss: 0.6287 - acc: 0.7745 - val_loss: 1.8070 - val_acc: 0.5248\n",
      "Epoch 54/100\n",
      "50000/50000 [==============================] - 21s 421us/step - loss: 0.6103 - acc: 0.7791 - val_loss: 1.8660 - val_acc: 0.5176\n",
      "Epoch 55/100\n",
      "50000/50000 [==============================] - 21s 412us/step - loss: 0.6072 - acc: 0.7822 - val_loss: 1.8549 - val_acc: 0.5251\n",
      "Epoch 56/100\n",
      "50000/50000 [==============================] - 21s 411us/step - loss: 0.6060 - acc: 0.7832 - val_loss: 1.9158 - val_acc: 0.5118\n",
      "Epoch 57/100\n",
      "50000/50000 [==============================] - 21s 418us/step - loss: 0.5893 - acc: 0.7881 - val_loss: 1.9374 - val_acc: 0.5170\n",
      "Epoch 58/100\n",
      "50000/50000 [==============================] - 21s 415us/step - loss: 0.5758 - acc: 0.7923 - val_loss: 1.9640 - val_acc: 0.5215\n"
     ]
    },
    {
     "name": "stdout",
     "output_type": "stream",
     "text": [
      "Epoch 59/100\n",
      "50000/50000 [==============================] - 20s 407us/step - loss: 0.5730 - acc: 0.7908 - val_loss: 1.9846 - val_acc: 0.5170\n",
      "Epoch 60/100\n",
      "50000/50000 [==============================] - 20s 404us/step - loss: 0.5487 - acc: 0.8029 - val_loss: 1.9978 - val_acc: 0.5263\n",
      "Epoch 61/100\n",
      "50000/50000 [==============================] - 21s 421us/step - loss: 0.5447 - acc: 0.8041 - val_loss: 2.0625 - val_acc: 0.5168\n",
      "Epoch 62/100\n",
      "50000/50000 [==============================] - 21s 410us/step - loss: 0.5393 - acc: 0.8065 - val_loss: 2.0963 - val_acc: 0.5110\n",
      "Epoch 63/100\n",
      "50000/50000 [==============================] - 20s 403us/step - loss: 0.5088 - acc: 0.8167 - val_loss: 2.1143 - val_acc: 0.5164\n",
      "Epoch 64/100\n",
      "50000/50000 [==============================] - 20s 400us/step - loss: 0.5167 - acc: 0.8122 - val_loss: 2.1407 - val_acc: 0.5120\n",
      "Epoch 65/100\n",
      "50000/50000 [==============================] - 20s 405us/step - loss: 0.4981 - acc: 0.8211 - val_loss: 2.1955 - val_acc: 0.5160\n",
      "Epoch 66/100\n",
      "50000/50000 [==============================] - 20s 405us/step - loss: 0.4958 - acc: 0.8209 - val_loss: 2.1668 - val_acc: 0.5198\n",
      "Epoch 67/100\n",
      "50000/50000 [==============================] - 20s 406us/step - loss: 0.4794 - acc: 0.8278 - val_loss: 2.2226 - val_acc: 0.5106\n",
      "Epoch 68/100\n",
      "50000/50000 [==============================] - 20s 408us/step - loss: 0.4870 - acc: 0.8248 - val_loss: 2.1921 - val_acc: 0.5193\n",
      "Epoch 69/100\n",
      "50000/50000 [==============================] - 21s 411us/step - loss: 0.4709 - acc: 0.8300 - val_loss: 2.3221 - val_acc: 0.5060\n",
      "Epoch 70/100\n",
      "50000/50000 [==============================] - 20s 409us/step - loss: 0.4733 - acc: 0.8287 - val_loss: 2.2782 - val_acc: 0.5176\n",
      "Epoch 71/100\n",
      "50000/50000 [==============================] - 21s 419us/step - loss: 0.4705 - acc: 0.8317 - val_loss: 2.3327 - val_acc: 0.5149\n",
      "Epoch 72/100\n",
      "50000/50000 [==============================] - 21s 415us/step - loss: 0.4718 - acc: 0.8321 - val_loss: 2.2774 - val_acc: 0.5128\n",
      "Epoch 73/100\n",
      "50000/50000 [==============================] - 20s 404us/step - loss: 0.4607 - acc: 0.8359 - val_loss: 2.3711 - val_acc: 0.5026\n",
      "Epoch 74/100\n",
      "50000/50000 [==============================] - 20s 405us/step - loss: 0.4439 - acc: 0.8431 - val_loss: 2.4694 - val_acc: 0.5142\n",
      "Epoch 75/100\n",
      "50000/50000 [==============================] - 20s 402us/step - loss: 0.4304 - acc: 0.8467 - val_loss: 2.4372 - val_acc: 0.5127\n",
      "Epoch 76/100\n",
      "50000/50000 [==============================] - 20s 401us/step - loss: 0.4328 - acc: 0.8440 - val_loss: 2.5431 - val_acc: 0.5018\n",
      "Epoch 77/100\n",
      "50000/50000 [==============================] - 20s 400us/step - loss: 0.4397 - acc: 0.8427 - val_loss: 2.5050 - val_acc: 0.5085\n",
      "Epoch 78/100\n",
      "50000/50000 [==============================] - 20s 396us/step - loss: 0.4312 - acc: 0.8453 - val_loss: 2.5082 - val_acc: 0.5047\n",
      "Epoch 79/100\n",
      "50000/50000 [==============================] - 20s 409us/step - loss: 0.4092 - acc: 0.8523 - val_loss: 2.5640 - val_acc: 0.5075\n",
      "Epoch 80/100\n",
      "50000/50000 [==============================] - 20s 398us/step - loss: 0.4003 - acc: 0.8553 - val_loss: 2.5290 - val_acc: 0.5129\n",
      "Epoch 81/100\n",
      "50000/50000 [==============================] - 20s 397us/step - loss: 0.4239 - acc: 0.8481 - val_loss: 2.5410 - val_acc: 0.4986\n",
      "Epoch 82/100\n",
      "50000/50000 [==============================] - 20s 398us/step - loss: 0.3933 - acc: 0.8586 - val_loss: 2.6755 - val_acc: 0.4903\n",
      "Epoch 83/100\n",
      "50000/50000 [==============================] - 20s 391us/step - loss: 0.3856 - acc: 0.8610 - val_loss: 2.5609 - val_acc: 0.5105\n",
      "Epoch 84/100\n",
      "50000/50000 [==============================] - 20s 393us/step - loss: 0.3719 - acc: 0.8680 - val_loss: 2.6259 - val_acc: 0.5104\n",
      "Epoch 85/100\n",
      "50000/50000 [==============================] - 20s 399us/step - loss: 0.3827 - acc: 0.8620 - val_loss: 2.6465 - val_acc: 0.4936\n",
      "Epoch 86/100\n",
      "50000/50000 [==============================] - 20s 393us/step - loss: 0.3831 - acc: 0.8636 - val_loss: 2.5976 - val_acc: 0.5037\n",
      "Epoch 87/100\n",
      "50000/50000 [==============================] - 20s 400us/step - loss: 0.3689 - acc: 0.8673 - val_loss: 2.6137 - val_acc: 0.5101\n",
      "Epoch 88/100\n",
      "50000/50000 [==============================] - 20s 390us/step - loss: 0.3558 - acc: 0.8742 - val_loss: 2.7178 - val_acc: 0.5051\n",
      "Epoch 89/100\n",
      "50000/50000 [==============================] - 19s 387us/step - loss: 0.3564 - acc: 0.8721 - val_loss: 2.7187 - val_acc: 0.5086\n",
      "Epoch 90/100\n",
      "50000/50000 [==============================] - 20s 396us/step - loss: 0.3529 - acc: 0.8749 - val_loss: 2.8089 - val_acc: 0.5108\n",
      "Epoch 91/100\n",
      "50000/50000 [==============================] - 20s 394us/step - loss: 0.3514 - acc: 0.8735 - val_loss: 2.8858 - val_acc: 0.4993\n",
      "Epoch 92/100\n",
      "50000/50000 [==============================] - 20s 403us/step - loss: 0.3603 - acc: 0.8707 - val_loss: 2.8732 - val_acc: 0.5004\n",
      "Epoch 93/100\n",
      "50000/50000 [==============================] - 20s 397us/step - loss: 0.3771 - acc: 0.8642 - val_loss: 2.7811 - val_acc: 0.4998\n",
      "Epoch 94/100\n",
      "50000/50000 [==============================] - 20s 408us/step - loss: 0.3225 - acc: 0.8841 - val_loss: 2.8309 - val_acc: 0.5068\n",
      "Epoch 95/100\n",
      "50000/50000 [==============================] - 20s 404us/step - loss: 0.3182 - acc: 0.8875 - val_loss: 2.8696 - val_acc: 0.51121s - loss: 0.314\n",
      "Epoch 96/100\n",
      "50000/50000 [==============================] - 20s 391us/step - loss: 0.3165 - acc: 0.8865 - val_loss: 2.8758 - val_acc: 0.5013\n",
      "Epoch 97/100\n",
      "50000/50000 [==============================] - 20s 399us/step - loss: 0.3366 - acc: 0.8795 - val_loss: 2.8695 - val_acc: 0.5091\n",
      "Epoch 98/100\n",
      "50000/50000 [==============================] - 19s 388us/step - loss: 0.3277 - acc: 0.8825 - val_loss: 2.9053 - val_acc: 0.5039\n",
      "Epoch 99/100\n",
      "50000/50000 [==============================] - 20s 402us/step - loss: 0.3354 - acc: 0.8795 - val_loss: 2.9053 - val_acc: 0.5084\n",
      "Epoch 100/100\n",
      "50000/50000 [==============================] - 20s 395us/step - loss: 0.3036 - acc: 0.8919 - val_loss: 2.8891 - val_acc: 0.5075\n"
     ]
    },
    {
     "data": {
      "text/plain": [
       "<keras.callbacks.History at 0x18638b65d68>"
      ]
     },
     "execution_count": 9,
     "metadata": {},
     "output_type": "execute_result"
    }
   ],
   "source": [
    "model.fit(x_train, y_train, \n",
    "          epochs=EPOCHS, \n",
    "          batch_size=BATCH_SIZE, \n",
    "          validation_data=(x_test, y_test), \n",
    "          shuffle=True)"
   ]
  },
  {
   "cell_type": "code",
   "execution_count": 10,
   "metadata": {},
   "outputs": [
    {
     "data": {
      "text/plain": [
       "<Figure size 640x480 with 1 Axes>"
      ]
     },
     "metadata": {},
     "output_type": "display_data"
    },
    {
     "data": {
      "text/plain": [
       "<Figure size 640x480 with 1 Axes>"
      ]
     },
     "metadata": {},
     "output_type": "display_data"
    }
   ],
   "source": [
    "import matplotlib.pyplot as plt\n",
    "\n",
    "\n",
    "train_loss = model.history.history[\"loss\"]\n",
    "valid_loss = model.history.history[\"val_loss\"]\n",
    "\n",
    "train_acc = model.history.history[\"acc\"]\n",
    "valid_acc = model.history.history[\"val_acc\"]\n",
    "\n",
    "plt.plot(range(len(train_loss)), train_loss, label=\"train loss\")\n",
    "plt.plot(range(len(valid_loss)), valid_loss, label=\"valid loss\")\n",
    "plt.legend()\n",
    "plt.title(\"Loss\")\n",
    "plt.show()\n",
    "\n",
    "plt.plot(range(len(train_acc)), train_acc, label=\"train accuracy\")\n",
    "plt.plot(range(len(valid_acc)), valid_acc, label=\"valid accuracy\")\n",
    "plt.legend()\n",
    "plt.title(\"Accuracy\")\n",
    "plt.show()"
   ]
  }
 ],
 "metadata": {
  "kernelspec": {
   "display_name": "Python 3",
   "language": "python",
   "name": "python3"
  },
  "language_info": {
   "codemirror_mode": {
    "name": "ipython",
    "version": 3
   },
   "file_extension": ".py",
   "mimetype": "text/x-python",
   "name": "python",
   "nbconvert_exporter": "python",
   "pygments_lexer": "ipython3",
   "version": "3.7.3"
  }
 },
 "nbformat": 4,
 "nbformat_minor": 2
}
